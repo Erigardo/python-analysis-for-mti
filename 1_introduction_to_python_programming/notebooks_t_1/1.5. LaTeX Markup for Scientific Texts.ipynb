{
 "cells": [
  {
   "cell_type": "code",
   "execution_count": null,
   "id": "initial_id",
   "metadata": {
    "collapsed": true
   },
   "outputs": [],
   "source": [
    "# Математические выражения в Python:\n",
    "# В Python можно выполнять различные математические операции, такие как сложение, вычитание, умножение, деление и т. д., с помощью соответствующих операторов +, -, *, /.Примеры:"
   ]
  },
  {
   "metadata": {},
   "cell_type": "code",
   "outputs": [],
   "execution_count": null,
   "source": [
    "x = 5 + 3  # x равно 8\n",
    "y = 10 - 2  # y равно 8\n",
    "z = 4 * 2  # z равно 8\n",
    "w = 16 / 2  # w равно 8.0 (получаем десятичное число из-за деления)"
   ],
   "id": "24f9ad7cd869bfc"
  },
  {
   "metadata": {},
   "cell_type": "markdown",
   "source": [
    "Элементы множества обозначаются как $x \\in A$.\n",
    "\n",
    "$$\n",
    "\\int_{0}^{1} x^2 \\, dx = \\frac{1}{3}\n",
    "$$\n"
   ],
   "id": "b6c687787d992db1"
  },
  {
   "metadata": {},
   "cell_type": "code",
   "outputs": [],
   "execution_count": null,
   "source": "",
   "id": "ccd0f4d5d6a8fed5"
  }
 ],
 "metadata": {
  "kernelspec": {
   "display_name": "Python 3",
   "language": "python",
   "name": "python3"
  },
  "language_info": {
   "codemirror_mode": {
    "name": "ipython",
    "version": 2
   },
   "file_extension": ".py",
   "mimetype": "text/x-python",
   "name": "python",
   "nbconvert_exporter": "python",
   "pygments_lexer": "ipython2",
   "version": "2.7.6"
  }
 },
 "nbformat": 4,
 "nbformat_minor": 5
}
