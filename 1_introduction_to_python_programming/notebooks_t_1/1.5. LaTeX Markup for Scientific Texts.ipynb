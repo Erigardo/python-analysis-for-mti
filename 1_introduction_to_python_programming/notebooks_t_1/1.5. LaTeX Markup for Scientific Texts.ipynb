{
 "cells": [
  {
   "cell_type": "markdown",
   "id": "605d8869",
   "metadata": {},
   "source": [
    "# 1.5. Разметка LaTeX для научных текстов"
   ]
  },
  {
   "cell_type": "markdown",
   "id": "initial_id",
   "metadata": {
    "collapsed": true
   },
   "source": [
    "## Математические выражения в Python:\n",
    "### LaTeX и Markdown отлично сочетаются для представления математических выражений в текстовых документах.\n",
    "### Jupyter Notebook поддерживает LaTeX непосредственно в Markdown-ячейках, что позволяет красиво оформлять математические выражения. Для этого используется два способа:"
   ]
  },
  {
   "cell_type": "markdown",
   "id": "78576dc7",
   "metadata": {},
   "source": [
    "#### Встроенные формулы (inline):\n",
    "- Заключите формулу в одинарные знаки доллара $. \n",
    "- Например: Отобразится как: a^2 + b^2 = c^2\n"
   ]
  },
  {
   "cell_type": "markdown",
   "id": "6145a4a7",
   "metadata": {},
   "source": [
    "Отобразится как: $a^2 + b^2 = c^2$"
   ]
  },
  {
   "cell_type": "markdown",
   "id": "24f9ad7cd869bfc",
   "metadata": {},
   "source": [
    "### Отдельно стоящие формулы (display):"
   ]
  },
  {
   "cell_type": "markdown",
   "id": "9b46250e",
   "metadata": {},
   "source": [
    "$$\n",
    "\\int_{-\\infty}^{\\infty} e^{-x^2} dx = \\sqrt{\\pi}\n",
    "$$"
   ]
  },
  {
   "cell_type": "markdown",
   "id": "b6c687787d992db1",
   "metadata": {},
   "source": [
    "### Примеры:\n",
    "\n",
    "#### Греческие буквы: $\\alpha$, $\\beta$, $\\gamma$ → α, β, γ\n",
    "#### Дроби: $\\frac{1}{2}$ →  \n",
    "#### Суммы и интегралы: $\\sum_{i=1}^{n} i$, $\\int_0^1 x^2 dx$ → ∑ "
   ]
  },
  {
   "cell_type": "markdown",
   "id": "ccd0f4d5d6a8fed5",
   "metadata": {},
   "source": [
    "### Продолжая тему математических выражений в Python, следует отметить, что язык предоставляет гораздо больше возможностей, чем просто базовые арифметические операции."
   ]
  },
  {
   "cell_type": "markdown",
   "id": "36d2c59b",
   "metadata": {},
   "source": [
    "#### Для сложных формул рекомендуется использовать онлайн-редакторы LaTeX \n",
    "- чтобы визуально проверить правильность написания. \n",
    "- затем скопируйте сгенерированный код в ячейку Jupyter Notebook."
   ]
  }
 ],
 "metadata": {
  "kernelspec": {
   "display_name": "Python 3",
   "language": "python",
   "name": "python3"
  },
  "language_info": {
   "codemirror_mode": {
    "name": "ipython",
    "version": 2
   },
   "file_extension": ".py",
   "mimetype": "text/x-python",
   "name": "python",
   "nbconvert_exporter": "python",
   "pygments_lexer": "ipython2",
   "version": "2.7.6"
  }
 },
 "nbformat": 4,
 "nbformat_minor": 5
}
