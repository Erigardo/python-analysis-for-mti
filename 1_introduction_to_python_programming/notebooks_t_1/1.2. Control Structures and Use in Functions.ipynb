{
 "cells": [
  {
   "metadata": {},
   "cell_type": "markdown",
   "source": "",
   "id": "85fc8ab2b9d1fea5"
  },
  {
   "metadata": {},
   "cell_type": "markdown",
   "source": "# 2. Управляющие конструкции с использованием внутри функции",
   "id": "88c464c285ee657f"
  },
  {
   "metadata": {},
   "cell_type": "markdown",
   "source": [
    "### Вспомните как в прошлом задании мы с вами написали одну функцию\n",
    "### Теперь мы используем управляющие конструкции функции для того чтобы увидеть как можно создавать условия для действий этой функции"
   ],
   "id": "dfd3d1dd9baa5a2d"
  },
  {
   "metadata": {
    "ExecuteTime": {
     "end_time": "2024-05-07T21:55:28.309537Z",
     "start_time": "2024-05-07T21:55:28.305125Z"
    }
   },
   "cell_type": "code",
   "source": [
    "## Попробуем описать функцию как правда и ложь в булевых значениях\n",
    "\n",
    "a = 3\n",
    "b = 3\n",
    "def true_or_false(a, b):\n",
    "    return a == b\n",
    "\n",
    "result = true_or_false(a,b)\n",
    "print(f\"Правда ли что a {a} равно b {b}?\\nОтвет: {result}\")"
   ],
   "id": "6c0c4d0cef56bfca",
   "outputs": [
    {
     "name": "stdout",
     "output_type": "stream",
     "text": [
      "Правда ли что a 3 равно b 3?\n",
      "Ответ: True\n"
     ]
    }
   ],
   "execution_count": 24
  },
  {
   "metadata": {
    "ExecuteTime": {
     "end_time": "2024-05-07T21:42:07.516560Z",
     "start_time": "2024-05-07T21:42:07.510727Z"
    }
   },
   "cell_type": "code",
   "source": [
    "message = \"Скорость микроавтобуса\"\n",
    "microbus_speed = 80  # Скорость микроавтобуса в км/ч\n",
    "distance = 700  # Дистанция, которую проедет микроавтобус\n",
    "fuel_rate = 15  # Расход топлива на 100 км в л/100км\n",
    "fuel_available = 100  # Доступное количество топлива в литрах\n",
    "\n",
    "def check_range(car_speed, distance, fuel_rate, fuel_available):\n",
    "    \"\"\"\n",
    "    Проверяет, доеедет ли микроавтобус до конечной точки с заданной скоростью и расходом топлива,\n",
    "    учитывая доступное количество топлива.\n",
    "\n",
    "    Аргументы:\n",
    "    - car_speed: скорость микроавтобуса в км/ч\n",
    "    - distance: дистанция до конечной точки в км\n",
    "    - fuel_rate: расход топлива на 100 км в л/100км\n",
    "    - fuel_available: доступное количество топлива в литрах\n",
    "\n",
    "    Возвращает:\n",
    "    - True, если микроавтобус доехал бы до конечной точки, False в противном случае\n",
    "    \"\"\"\n",
    "    fuel_needed = (fuel_rate / 100) * distance  # Требуемое количество топлива для поездки\n",
    "    max_distance = (fuel_available / fuel_rate) * 100  # Максимальное расстояние, которое можно пройти с имеющимся топливом\n",
    "\n",
    "    if max_distance >= distance:\n",
    "        return True\n",
    "    else:\n",
    "        return False\n",
    "\n",
    "if check_range(microbus_speed, distance, fuel_rate, fuel_available):\n",
    "    print(f\"{message} {microbus_speed} км/ч. Машина доехала бы до конечной точки.\")\n",
    "else:\n",
    "    print(f\"{message} {microbus_speed} км/ч. Машина не доехала бы до конечной точки.\")\n",
    "\n"
   ],
   "id": "81dbf741f1fef86a",
   "outputs": [
    {
     "name": "stdout",
     "output_type": "stream",
     "text": [
      "Скорость микроавтобуса 80 км/ч. Машина не доехала бы до конечной точки.\n"
     ]
    }
   ],
   "execution_count": 12
  },
  {
   "metadata": {},
   "cell_type": "markdown",
   "source": [
    "# Вопросы для проверки\n",
    "### 1. Что такое функция?\n",
    "### Варианты ответов:\n",
    "    ### а. Это блок кода, который запускается только при его вызове, он может принимать параметры и возвращать данные.\n",
    "    ### б. Это структура данных, которая автоматически обновляется при изменении её элементов.\n",
    "    ### в. Это специальный тип переменной, который используется для хранения данных.\n",
    "    ### г. Это метод автоматической обработки ошибок, который используется для управления исключениями."
   ],
   "id": "b378f68cd5b9fc1d"
  },
  {
   "metadata": {},
   "cell_type": "code",
   "outputs": [],
   "execution_count": null,
   "source": ",списки,ко",
   "id": "98448163594c9590"
  }
 ],
 "metadata": {
  "kernelspec": {
   "display_name": "Python 3",
   "language": "python",
   "name": "python3"
  },
  "language_info": {
   "codemirror_mode": {
    "name": "ipython",
    "version": 2
   },
   "file_extension": ".py",
   "mimetype": "text/x-python",
   "name": "python",
   "nbconvert_exporter": "python",
   "pygments_lexer": "ipython2",
   "version": "2.7.6"
  }
 },
 "nbformat": 4,
 "nbformat_minor": 5
}
