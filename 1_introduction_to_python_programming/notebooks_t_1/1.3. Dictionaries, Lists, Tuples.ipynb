{
 "cells": [
  {
   "cell_type": "markdown",
   "id": "6a6a4e10",
   "metadata": {},
   "source": [
    "# 1.3. Словари, списки, кортежи."
   ]
  },
  {
   "cell_type": "markdown",
   "id": "d4835d8e-214f-46d5-a408-4f2329327a94",
   "metadata": {},
   "source": [
    "## Поговорим с вами о списках кортежах и словарях"
   ]
  },
  {
   "cell_type": "markdown",
   "id": "ef60ca70-f0d2-4b16-82b4-3a89a2912668",
   "metadata": {},
   "source": [
    "## Современный Python является одним из самых популярных языков которые применяются в обработке данных."
   ]
  },
  {
   "cell_type": "markdown",
   "id": "f3128a79-1855-4fd9-a14e-301b99796abb",
   "metadata": {},
   "source": [
    "# Кортежи"
   ]
  },
  {
   "cell_type": "markdown",
   "id": "76e4ceb1-048b-4252-869f-73a96ee6afc4",
   "metadata": {},
   "source": [
    "## Кортеж – это неизменяемая последовательность с упорядоченными элементами. \n",
    "### Чем полезны кортежи?\n",
    "\n",
    "- Неизменяемость:\n",
    "Обеспечивает целостность данных, которые нельзя случайно изменить.\n",
    "- Экономия памяти: Кортежи занимают меньше памяти, чем списки, так как их данные не подлежат изменению.\n",
    "- Эффективность: Операции с кортежами выполняются быстрее, чем со списками, за счет их неизменяемости.\n",
    "\n",
    "### Когда использовать кортежи?\n",
    "\n",
    "- Хранение фиксированных данных, которые не должны меняться (например, константы, координаты).\n",
    "- Возврат нескольких значений из функции.\n",
    "- Ключи в словарях.\n",
    "- Элементы кортежей могут быть сами кортежами, вложенными друг в друга.\n"
   ]
  },
  {
   "cell_type": "code",
   "execution_count": 60,
   "id": "cbfb945b-9a2b-4b54-ae76-968cac9d4879",
   "metadata": {},
   "outputs": [
    {
     "data": {
      "text/plain": [
       "(1, 2, 3)"
      ]
     },
     "execution_count": 60,
     "metadata": {},
     "output_type": "execute_result"
    }
   ],
   "source": [
    "# создаем кортеж\n",
    "tup = 1, 2, 3\n",
    "# смотрим кортеж\n",
    "tup\n",
    "(1, 2, 3)"
   ]
  },
  {
   "cell_type": "code",
   "execution_count": 64,
   "id": "000806ec-9e8f-456b-9fac-f5c633fe4495",
   "metadata": {},
   "outputs": [],
   "source": [
    "### можно создать вложенный кортеж"
   ]
  },
  {
   "cell_type": "code",
   "execution_count": 62,
   "id": "e2dd36aa-8b32-4858-9572-c06391519a55",
   "metadata": {},
   "outputs": [
    {
     "data": {
      "text/plain": [
       "((4, 5, 6), (7, 8))"
      ]
     },
     "execution_count": 62,
     "metadata": {},
     "output_type": "execute_result"
    }
   ],
   "source": [
    "# создаем кортеж кортежей\n",
    "two_in_tup = (1, 2, 3), (4, 5)\n",
    "two_in_tup\n",
    "((4, 5, 6), (7, 8))"
   ]
  },
  {
   "cell_type": "code",
   "execution_count": 29,
   "id": "f30fb615-3106-435c-840d-dd3b62ea3e68",
   "metadata": {},
   "outputs": [],
   "source": [
    "string_1 = tuple(\"Студент\")"
   ]
  },
  {
   "cell_type": "code",
   "execution_count": 15,
   "id": "d1989601-6592-4ced-830c-4d27184e5f60",
   "metadata": {},
   "outputs": [
    {
     "data": {
      "text/plain": [
       "('С', 'т', 'у', 'д', 'е', 'н', 'т')"
      ]
     },
     "execution_count": 15,
     "metadata": {},
     "output_type": "execute_result"
    }
   ],
   "source": [
    "string_1"
   ]
  },
  {
   "cell_type": "code",
   "execution_count": 17,
   "id": "d634b136-c4c8-47d7-9949-a67451072324",
   "metadata": {},
   "outputs": [
    {
     "data": {
      "text/plain": [
       "'С'"
      ]
     },
     "execution_count": 17,
     "metadata": {},
     "output_type": "execute_result"
    }
   ],
   "source": [
    "string_1[0]"
   ]
  },
  {
   "cell_type": "code",
   "execution_count": 19,
   "id": "4c3f14c7-7f44-4fe2-a3e8-c56c2a35bead",
   "metadata": {},
   "outputs": [
    {
     "data": {
      "text/plain": [
       "'т'"
      ]
     },
     "execution_count": 19,
     "metadata": {},
     "output_type": "execute_result"
    }
   ],
   "source": [
    "string_1[-1]"
   ]
  },
  {
   "cell_type": "markdown",
   "id": "91a0b19d-c64b-45a4-88eb-f88361576cda",
   "metadata": {},
   "source": [
    "### Также мы можем складывать кортеджи вместе."
   ]
  },
  {
   "cell_type": "markdown",
   "id": "f326b271-368a-4c4b-b0bf-e41c4706a5da",
   "metadata": {},
   "source": [
    "### Напишем код и убедимся что мы выводим нужный тип данных:"
   ]
  },
  {
   "cell_type": "code",
   "execution_count": 34,
   "id": "bf7ef0e8-2b8a-417b-a277-8cd87d71c6aa",
   "metadata": {},
   "outputs": [],
   "source": [
    "sum_tup = ('С', 'т', 'у') + ('д', 'е', 'н', 'т')"
   ]
  },
  {
   "cell_type": "code",
   "execution_count": 48,
   "id": "b7434321-e24c-4fd7-8d86-c5355b250e95",
   "metadata": {},
   "outputs": [
    {
     "name": "stdout",
     "output_type": "stream",
     "text": [
      "наш кортеж ('С', 'т', 'у', 'д', 'е', 'н', 'т'), И убедимся что это нужно тип данных: <class 'tuple'>\n"
     ]
    }
   ],
   "source": [
    "print(f\"наш кортеж {sum_tup}, И убедимся что это нужно тип данных: {type(sum_tup)}\")"
   ]
  },
  {
   "cell_type": "markdown",
   "id": "79bbdcf5-a064-437e-834a-cf7c075a7922",
   "metadata": {},
   "source": [
    "### Также можно выполнить срез кортежа или по-другому вызвать диапазон элементов кортежа:"
   ]
  },
  {
   "cell_type": "code",
   "execution_count": 77,
   "id": "ccb9094f-f3e6-4952-83f0-35ea388a5733",
   "metadata": {},
   "outputs": [],
   "source": [
    "# Диапазон элементов\n",
    "sliced_tuple = sum_tup[1:4]  # sliced_tuple = (2, 3)"
   ]
  },
  {
   "cell_type": "code",
   "execution_count": 79,
   "id": "66a9bfa7-1049-495d-a4e6-e94ad82c7e14",
   "metadata": {},
   "outputs": [
    {
     "data": {
      "text/plain": [
       "('т', 'у', 'д')"
      ]
     },
     "execution_count": 79,
     "metadata": {},
     "output_type": "execute_result"
    }
   ],
   "source": [
    "sliced_tuple"
   ]
  },
  {
   "cell_type": "code",
   "execution_count": null,
   "id": "f171c021-45e3-4605-9387-7e1f679a1f23",
   "metadata": {},
   "outputs": [],
   "source": []
  },
  {
   "cell_type": "markdown",
   "id": "f25068eb-e118-4897-9a24-ec4de68c0f64",
   "metadata": {},
   "source": [
    "# Словари в Python"
   ]
  },
  {
   "cell_type": "markdown",
   "id": "5b47556e-cc08-4231-8fd0-e75d17df70ce",
   "metadata": {},
   "source": [
    "## Словари - коллекции пар ключ-значение в Python, но не упорядочены."
   ]
  },
  {
   "cell_type": "markdown",
   "id": "5488e55d-c84f-4d98-bded-aa1b93e2b692",
   "metadata": {},
   "source": [
    "## Особенность:\n",
    "- Ключи уникальны: В каждом словаре может быть только один ключ с одинаковым значением.\n",
    "- Значения могут быть любыми: Словари могут хранить любые объекты Python, включая другие словари и списки.\n",
    "- Динамическая структура: Словари можно изменять после создания, добавляя, удаляя и изменяя пары ключ-значение.\n",
    "\n",
    "## Чем они полезны?\n",
    "- Словари идеально подходят для хранения информации, где каждый элемент имеет уникальную метку (ключ).\n",
    "- Быстрый доступ по ключу:\n",
    "- Словари можно легко модифицировать.\n",
    "\n",
    "## Где удобно использовать:\n",
    "\n",
    "- Хранение информации с ключами (например, имена пользователей и пароли, слова и их определения).\n",
    "- Моделирование объектов с атрибутами и значениями.\n",
    "- В анализе данных."
   ]
  },
  {
   "cell_type": "markdown",
   "id": "f45230de-1dbb-4937-803a-86f6c63a9216",
   "metadata": {},
   "source": [
    "### Давайте создадим структуру словаря:"
   ]
  },
  {
   "cell_type": "code",
   "execution_count": 96,
   "id": "f7fee31f-7775-4c32-a265-efdfebe05eff",
   "metadata": {},
   "outputs": [],
   "source": [
    "# Пример создания словаря\n",
    "my_dict = {\"ключ1\": \"значение1\", \"ключ2\": 2, \"ключ3\": [1, 2, 3]}"
   ]
  },
  {
   "cell_type": "code",
   "execution_count": 98,
   "id": "4ee68132-0172-4a66-816d-8b90850230ea",
   "metadata": {},
   "outputs": [
    {
     "data": {
      "text/plain": [
       "{'ключ1': 'значение1', 'ключ2': 2, 'ключ3': [1, 2, 3]}"
      ]
     },
     "execution_count": 98,
     "metadata": {},
     "output_type": "execute_result"
    }
   ],
   "source": [
    "my_dict"
   ]
  },
  {
   "cell_type": "markdown",
   "id": "6834a267-ce03-4981-a446-8cd1c41818db",
   "metadata": {},
   "source": [
    "## Теперь мы получим доступ к значению по ключу"
   ]
  },
  {
   "cell_type": "code",
   "execution_count": 100,
   "id": "a973ae55-9d2d-4e03-ac37-d3efb9ce6c84",
   "metadata": {},
   "outputs": [],
   "source": [
    "# Доступ к значению по ключу\n",
    "value = my_dict[\"ключ1\"]  # value = \"значение1\""
   ]
  },
  {
   "cell_type": "markdown",
   "id": "16ee1f4f-0280-4c7e-a071-dfebb6f09ba3",
   "metadata": {},
   "source": [
    "## Проверим наличие ключа"
   ]
  },
  {
   "cell_type": "code",
   "execution_count": 103,
   "id": "32c8f6d7-5dec-4355-a496-99f379a3587e",
   "metadata": {},
   "outputs": [
    {
     "name": "stdout",
     "output_type": "stream",
     "text": [
      "2\n"
     ]
    }
   ],
   "source": [
    "# Проверка наличия ключа\n",
    "if \"ключ2\" in my_dict:\n",
    "    print(my_dict[\"ключ2\"])  # Выводит 2"
   ]
  },
  {
   "cell_type": "markdown",
   "id": "a3e3bfc2-84d7-4c16-b4e1-9a75ffc43341",
   "metadata": {},
   "source": [
    "## Изменим значение привязанное к ключу"
   ]
  },
  {
   "cell_type": "code",
   "execution_count": null,
   "id": "2698e0a2-4a79-49f6-84ba-93dc88043b9e",
   "metadata": {},
   "outputs": [],
   "source": [
    "# Изменение значения\n",
    "my_dict[\"ключ3\"].append(4)  # Добавляет 4 в список, связанный с ключом \"ключ3\""
   ]
  },
  {
   "cell_type": "code",
   "execution_count": null,
   "id": "d939798d-fd97-4fef-b4c7-c7f03a364fe1",
   "metadata": {},
   "outputs": [],
   "source": []
  },
  {
   "cell_type": "markdown",
   "id": "27c5648d-ce04-4b65-a0d5-678b434a2a25",
   "metadata": {},
   "source": [
    "- Получение списка ключей: my_dict.keys()\n",
    "- Получение списка значений: my_dict.values()\n",
    "- Получение пар ключ-значение: my_dict.items()\n",
    "- Проверка пустоты: not my_dict\n",
    "- Удаление элемента: del my_dict[\"ключ\"]"
   ]
  },
  {
   "cell_type": "code",
   "execution_count": null,
   "id": "689da9c7-9060-46b6-b426-3cb91874f2c1",
   "metadata": {},
   "outputs": [],
   "source": []
  },
  {
   "cell_type": "code",
   "execution_count": null,
   "id": "e2ae9a9f-fb8c-44e5-8be4-e4eaface55aa",
   "metadata": {},
   "outputs": [],
   "source": []
  }
 ],
 "metadata": {
  "kernelspec": {
   "display_name": "Python 3 (ipykernel)",
   "language": "python",
   "name": "python3"
  },
  "language_info": {
   "codemirror_mode": {
    "name": "ipython",
    "version": 3
   },
   "file_extension": ".py",
   "mimetype": "text/x-python",
   "name": "python",
   "nbconvert_exporter": "python",
   "pygments_lexer": "ipython3",
   "version": "3.12.4"
  }
 },
 "nbformat": 4,
 "nbformat_minor": 5
}
