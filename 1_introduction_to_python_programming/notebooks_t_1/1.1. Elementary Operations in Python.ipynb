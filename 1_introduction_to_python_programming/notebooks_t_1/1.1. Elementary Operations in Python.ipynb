{
 "cells": [
  {
   "cell_type": "markdown",
   "id": "6fc51c1b",
   "metadata": {},
   "source": [
    "# В этой части рассмотрим элементарные операции на языке Python."
   ]
  },
  {
   "cell_type": "markdown",
   "id": "438170c0",
   "metadata": {},
   "source": [
    "## Рассмотрим такие элементарные операции как комментирование и создание переменной."
   ]
  },
  {
   "cell_type": "markdown",
   "id": "c000bfb1",
   "metadata": {},
   "source": [
    "### Комментарий — это текст в коде, который игнорируется интерпретатором Python. Комментарии используются для объяснения кода и делают его более понятным для чтения.\n",
    "\n",
    "### Переменная — это имя, ссылающееся на объект в памяти компьютера. Мы можем присвоить переменной значение с помощью оператора присваивания = , например age = 26. Переменные могут хранить данные разных типов: числа, строки, логические значения и т. д."
   ]
  },
  {
   "cell_type": "code",
   "execution_count": 54,
   "id": "initial_id",
   "metadata": {
    "ExecuteTime": {
     "end_time": "2024-05-07T21:01:09.522337Z",
     "start_time": "2024-05-07T21:01:09.518599Z"
    },
    "collapsed": true
   },
   "outputs": [],
   "source": [
    "# Простейшие операции\n",
    "# z - комментирование\n",
    "\"\"\"\n",
    "Это многострочный комментарий\n",
    "\"\"\"\n",
    "a = 4\n",
    "b = 2.5\n",
    "c = a*b\n",
    "d = \"Привет Мир_\""
   ]
  },
  {
   "cell_type": "code",
   "execution_count": 22,
   "id": "192c9ad933aa6c8c",
   "metadata": {
    "ExecuteTime": {
     "end_time": "2024-05-07T20:26:02.175297Z",
     "start_time": "2024-05-07T20:26:02.171866Z"
    }
   },
   "outputs": [
    {
     "data": {
      "text/plain": [
       "10.0"
      ]
     },
     "execution_count": 22,
     "metadata": {},
     "output_type": "execute_result"
    }
   ],
   "source": [
    "c # Выведем нашу переменную С"
   ]
  },
  {
   "cell_type": "code",
   "execution_count": 23,
   "id": "5c4f3f7397d5eab4",
   "metadata": {
    "ExecuteTime": {
     "end_time": "2024-05-07T20:26:02.339696Z",
     "start_time": "2024-05-07T20:26:02.335903Z"
    }
   },
   "outputs": [
    {
     "data": {
      "text/plain": [
       "'Привет Мир'"
      ]
     },
     "execution_count": 23,
     "metadata": {},
     "output_type": "execute_result"
    }
   ],
   "source": [
    "d # Выведем нашу переменную С"
   ]
  },
  {
   "cell_type": "code",
   "execution_count": 55,
   "id": "cbb86394f3d507de",
   "metadata": {
    "ExecuteTime": {
     "end_time": "2024-05-07T21:03:09.399068Z",
     "start_time": "2024-05-07T21:03:09.396458Z"
    }
   },
   "outputs": [],
   "source": [
    "# теперь продемонстрируем работу функции\n",
    "def func_a(arg1, arg2):\n",
    "    \"\"\"функция сложения\"\"\"\n",
    "    x = a + b\n",
    "    return x"
   ]
  },
  {
   "cell_type": "code",
   "execution_count": 56,
   "id": "be3edda00f8fb501",
   "metadata": {
    "ExecuteTime": {
     "end_time": "2024-05-07T21:03:12.170063Z",
     "start_time": "2024-05-07T21:03:12.165508Z"
    }
   },
   "outputs": [
    {
     "data": {
      "text/plain": [
       "6.5"
      ]
     },
     "execution_count": 56,
     "metadata": {},
     "output_type": "execute_result"
    }
   ],
   "source": [
    "func_a(a, b)"
   ]
  },
  {
   "cell_type": "code",
   "execution_count": 30,
   "id": "caf570c7c3c88560",
   "metadata": {
    "ExecuteTime": {
     "end_time": "2024-05-07T20:36:41.934446Z",
     "start_time": "2024-05-07T20:36:41.931556Z"
    }
   },
   "outputs": [
    {
     "name": "stdout",
     "output_type": "stream",
     "text": [
      "Привет Мир\n"
     ]
    }
   ],
   "source": [
    "print(d) # функция возвращает изначально строковые значения нашей переменной d"
   ]
  },
  {
   "cell_type": "code",
   "execution_count": 27,
   "id": "452fac6af39c013f",
   "metadata": {
    "ExecuteTime": {
     "end_time": "2024-05-07T20:28:53.675526Z",
     "start_time": "2024-05-07T20:28:53.671823Z"
    }
   },
   "outputs": [
    {
     "data": {
      "text/plain": [
       "int"
      ]
     },
     "execution_count": 27,
     "metadata": {},
     "output_type": "execute_result"
    }
   ],
   "source": [
    "# типы данных и адрес\n",
    "type(a) # Выведем тип данных нашей переменной С\n",
    "\n",
    "# type(b)\n",
    "# type(c)\n",
    "# type(d)"
   ]
  },
  {
   "cell_type": "code",
   "execution_count": 31,
   "id": "f81e072c40f471d5",
   "metadata": {
    "ExecuteTime": {
     "end_time": "2024-05-07T20:39:26.482402Z",
     "start_time": "2024-05-07T20:39:26.476013Z"
    }
   },
   "outputs": [
    {
     "ename": "TypeError",
     "evalue": "unsupported operand type(s) for +: 'int' and 'str'",
     "output_type": "error",
     "traceback": [
      "\u001b[0;31m---------------------------------------------------------------------------\u001b[0m",
      "\u001b[0;31mTypeError\u001b[0m                                 Traceback (most recent call last)",
      "\u001b[0;32m<ipython-input-31-47802d9e0a89>\u001b[0m in \u001b[0;36m<module>\u001b[0;34m\u001b[0m\n\u001b[1;32m      1\u001b[0m \u001b[0;31m# Давайте посмотрим что будет если мы сложим переменные a и d\u001b[0m\u001b[0;34m\u001b[0m\u001b[0;34m\u001b[0m\u001b[0;34m\u001b[0m\u001b[0m\n\u001b[0;32m----> 2\u001b[0;31m \u001b[0ma\u001b[0m \u001b[0;34m+\u001b[0m \u001b[0md\u001b[0m\u001b[0;34m\u001b[0m\u001b[0;34m\u001b[0m\u001b[0m\n\u001b[0m",
      "\u001b[0;31mTypeError\u001b[0m: unsupported operand type(s) for +: 'int' and 'str'"
     ]
    }
   ],
   "source": [
    "# Давайте посмотрим что будет если мы сложим переменные a и d\n",
    "a + d"
   ]
  },
  {
   "cell_type": "code",
   "execution_count": 32,
   "id": "ebc36a5eeb70f831",
   "metadata": {
    "ExecuteTime": {
     "end_time": "2024-05-07T20:40:50.617941Z",
     "start_time": "2024-05-07T20:40:50.614020Z"
    }
   },
   "outputs": [
    {
     "data": {
      "text/plain": [
       "6.5"
      ]
     },
     "execution_count": 32,
     "metadata": {},
     "output_type": "execute_result"
    }
   ],
   "source": [
    "a + b # Значит численное значение сложились хорошо"
   ]
  },
  {
   "cell_type": "code",
   "execution_count": 35,
   "id": "57e399fa3df46d0c",
   "metadata": {
    "ExecuteTime": {
     "end_time": "2024-05-07T20:42:32.765835Z",
     "start_time": "2024-05-07T20:42:32.761959Z"
    }
   },
   "outputs": [
    {
     "data": {
      "text/plain": [
       "'Привет Мир_Привет Мир_'"
      ]
     },
     "execution_count": 35,
     "metadata": {},
     "output_type": "execute_result"
    }
   ],
   "source": [
    "# а что если мы попробуем сложить переменную D с ней же самой\n",
    "d + d"
   ]
  },
  {
   "cell_type": "code",
   "execution_count": 39,
   "id": "6a1302967f567e96",
   "metadata": {
    "ExecuteTime": {
     "end_time": "2024-05-07T20:44:57.507644Z",
     "start_time": "2024-05-07T20:44:57.504481Z"
    }
   },
   "outputs": [
    {
     "data": {
      "text/plain": [
       "-1"
      ]
     },
     "execution_count": 39,
     "metadata": {},
     "output_type": "execute_result"
    }
   ],
   "source": [
    "# Выполним оставшиеся операции с числами которые могут быть использованы к нашим переменным\n",
    "a - 5 # вполне можем получить отрицательное число"
   ]
  },
  {
   "cell_type": "code",
   "execution_count": 40,
   "id": "30be3faab82aee8d",
   "metadata": {
    "ExecuteTime": {
     "end_time": "2024-05-07T20:45:22.433909Z",
     "start_time": "2024-05-07T20:45:22.429828Z"
    }
   },
   "outputs": [
    {
     "data": {
      "text/plain": [
       "16"
      ]
     },
     "execution_count": 40,
     "metadata": {},
     "output_type": "execute_result"
    }
   ],
   "source": [
    "a ** 2 # получим степень числа используя двойной оператор умножения"
   ]
  },
  {
   "cell_type": "code",
   "execution_count": 41,
   "id": "97dc711f5b9665c8",
   "metadata": {
    "ExecuteTime": {
     "end_time": "2024-05-07T20:46:21.980861Z",
     "start_time": "2024-05-07T20:46:21.977370Z"
    }
   },
   "outputs": [
    {
     "data": {
      "text/plain": [
       "1.0"
      ]
     },
     "execution_count": 41,
     "metadata": {},
     "output_type": "execute_result"
    }
   ],
   "source": [
    "a // b # мы увидим мы увидим операцию с очистительного отделения в котором остаток будет отброшен"
   ]
  },
  {
   "cell_type": "code",
   "execution_count": 42,
   "id": "bab4426faf787546",
   "metadata": {
    "ExecuteTime": {
     "end_time": "2024-05-07T20:47:06.934261Z",
     "start_time": "2024-05-07T20:47:06.930494Z"
    }
   },
   "outputs": [
    {
     "data": {
      "text/plain": [
       "1.5"
      ]
     },
     "execution_count": 42,
     "metadata": {},
     "output_type": "execute_result"
    }
   ],
   "source": [
    "a % b # Давайте наоборот получим остаток от деления"
   ]
  },
  {
   "cell_type": "markdown",
   "id": "607b9ebdb3a607c2",
   "metadata": {},
   "source": [
    "# Давайте продемонстрируем ещё несколько операций с данными, которые у нас хранятся в переменных"
   ]
  },
  {
   "cell_type": "code",
   "execution_count": 48,
   "id": "1afa260b25c5651b",
   "metadata": {
    "ExecuteTime": {
     "end_time": "2024-05-07T20:51:39.281669Z",
     "start_time": "2024-05-07T20:51:39.277927Z"
    }
   },
   "outputs": [
    {
     "data": {
      "text/plain": [
       "'Привет Мир_Привет Мир_Привет Мир_Привет Мир_'"
      ]
     },
     "execution_count": 48,
     "metadata": {},
     "output_type": "execute_result"
    }
   ],
   "source": [
    "a * d #1 попробуем умножить нашу целочисленную переменную А на переменную со строкой. \n",
    "#2 И посмотрим что у нас получилось у нас наша строковая переменная увеличилась в четыре раза."
   ]
  },
  {
   "cell_type": "code",
   "execution_count": 51,
   "id": "2a04bba0cd61fead",
   "metadata": {
    "ExecuteTime": {
     "end_time": "2024-05-07T20:55:35.790852Z",
     "start_time": "2024-05-07T20:55:35.787733Z"
    }
   },
   "outputs": [
    {
     "data": {
      "text/plain": [
       "'П'"
      ]
     },
     "execution_count": 51,
     "metadata": {},
     "output_type": "execute_result"
    }
   ],
   "source": [
    "# но ещё интересный момент мы можем извлекать символы из наших строковых переменных\n",
    "d[0] # мы можем обратиться к переменной D содержащую строковое значение по индексу. \n",
    "# используем квадратные скобки\n",
    "# выставим значение 0 поскольку индекс всегда начинается с нуля - получим значение первой буквы"
   ]
  },
  {
   "cell_type": "code",
   "execution_count": 52,
   "id": "33365305ceda96a1",
   "metadata": {
    "ExecuteTime": {
     "end_time": "2024-05-07T20:56:59.553630Z",
     "start_time": "2024-05-07T20:56:59.549670Z"
    }
   },
   "outputs": [
    {
     "data": {
      "text/plain": [
       "'_'"
      ]
     },
     "execution_count": 52,
     "metadata": {},
     "output_type": "execute_result"
    }
   ],
   "source": [
    "# а допустим мы ему хотим обратиться к последней букве\n",
    "d[-1] # тогда используем отрицательный индекс"
   ]
  },
  {
   "cell_type": "code",
   "execution_count": 53,
   "id": "59d01befb71d5b5a",
   "metadata": {
    "ExecuteTime": {
     "end_time": "2024-05-07T20:57:53.155049Z",
     "start_time": "2024-05-07T20:57:53.151200Z"
    }
   },
   "outputs": [
    {
     "data": {
      "text/plain": [
       "'Привет'"
      ]
     },
     "execution_count": 53,
     "metadata": {},
     "output_type": "execute_result"
    }
   ],
   "source": [
    "d[0:6] #Что если мы хотим выделить наше слово привет Давайте попробуем посчитать количество букв в начале нашей строки. вернёмся вверх и посмотрим Сколько букв у нас было в слове."
   ]
  },
  {
   "cell_type": "markdown",
   "id": "b502ee76",
   "metadata": {},
   "source": [
    "# Вопросы для проверки"
   ]
  },
  {
   "cell_type": "markdown",
   "id": "ba65efd48252739d",
   "metadata": {},
   "source": [
    "\n",
    "### 1. Как представлены данные в языке Python?\n",
    "### Варианты ответов:\n",
    "    а. Представлены в виде объектов\n",
    "    б. Представлены в виде функций\n",
    "    в. Представлены в виде переменных\n",
    "    г. Представлены в виде чисел\n"
   ]
  },
  {
   "cell_type": "markdown",
   "id": "6002b652410cdff3",
   "metadata": {},
   "source": [
    "### 2. Как создать комментарий в коде Python?\n",
    "### Варианты ответов:\n",
    "    а. Использовать символ `#` в начале строки комментария.\n",
    "    б. Использовать символы `/*` в начале и `*/` в конце комментария.\n",
    "    в. Использовать тройные кавычки `\"\"\"` в начале и в конце комментария.\n",
    "    г. Использовать двойные кавычки `\"` в начале и в конце комментария.\n"
   ]
  },
  {
   "cell_type": "markdown",
   "id": "fb09b602",
   "metadata": {},
   "source": [
    "### 3. Как создать переменную в Python и присвоить ей значение?\n",
    "### Варианты ответов:\n",
    "    а. `variable_name = value`\n",
    "    б. `value -> variable_name`\n",
    "    в. `var variable_name = value`\n",
    "    г. `variable_name := value`"
   ]
  },
  {
   "cell_type": "markdown",
   "id": "8a807a54",
   "metadata": {},
   "source": [
    "### 4. Какой оператор используется для возведения в степень в Python?\n",
    "### Варианты ответов:\n",
    "    а. `^`\n",
    "    б. `**`\n",
    "    в. `exp`\n",
    "    г. `pow`"
   ]
  },
  {
   "cell_type": "markdown",
   "id": "bf21df36",
   "metadata": {},
   "source": [
    "### 5. Что такое целочисленное деление в Python и какой оператор для него используется?\n",
    "### Варианты ответов:\n",
    "    а. Деление с округлением результата до ближайшего целого числа, оператор `/`.\n",
    "    б. Деление с отбрасыванием дробной части, оператор `//`.\n",
    "    в. Деление с получением остатка, оператор `%`.\n",
    "    г. Деление с сохранением дробной части, оператор `/`."
   ]
  },
  {
   "cell_type": "markdown",
   "id": "6a07845c",
   "metadata": {},
   "source": [
    "### 6. Как определить тип данных переменной в Python?\n",
    "### Варианты ответов:\n",
    "    а. Деление с округлением результата до ближайшего целого числа, оператор `/`.\n",
    "    б. Деление с отбрасыванием дробной части, оператор `//`.\n",
    "    в. Деление с получением остатка, оператор `%`.\n",
    "    г. Деление с сохранением дробной части, оператор `/`."
   ]
  }
 ],
 "metadata": {
  "kernelspec": {
   "display_name": "Python 3",
   "language": "python",
   "name": "python3"
  },
  "language_info": {
   "codemirror_mode": {
    "name": "ipython",
    "version": 3
   },
   "file_extension": ".py",
   "mimetype": "text/x-python",
   "name": "python",
   "nbconvert_exporter": "python",
   "pygments_lexer": "ipython3",
   "version": "3.12.4"
  }
 },
 "nbformat": 4,
 "nbformat_minor": 5
}
