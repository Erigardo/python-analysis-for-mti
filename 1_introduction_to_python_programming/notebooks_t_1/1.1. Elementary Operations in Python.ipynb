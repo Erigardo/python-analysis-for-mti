{
 "cells": [
  {
   "cell_type": "code",
   "id": "initial_id",
   "metadata": {
    "collapsed": true,
    "ExecuteTime": {
     "end_time": "2024-05-07T21:01:09.522337Z",
     "start_time": "2024-05-07T21:01:09.518599Z"
    }
   },
   "source": [
    "# Простейшие операции\n",
    "# z - комментирование\n",
    "\"\"\"\n",
    "Это многострочный комментарий\n",
    "\"\"\"\n",
    "a = 4\n",
    "b = 2.5\n",
    "c = a*b\n",
    "d = \"Привет Мир_\""
   ],
   "outputs": [],
   "execution_count": 54
  },
  {
   "metadata": {
    "ExecuteTime": {
     "end_time": "2024-05-07T20:26:02.175297Z",
     "start_time": "2024-05-07T20:26:02.171866Z"
    }
   },
   "cell_type": "code",
   "source": "c # Выведем нашу переменную С",
   "id": "192c9ad933aa6c8c",
   "outputs": [
    {
     "data": {
      "text/plain": [
       "10.0"
      ]
     },
     "execution_count": 22,
     "metadata": {},
     "output_type": "execute_result"
    }
   ],
   "execution_count": 22
  },
  {
   "metadata": {
    "ExecuteTime": {
     "end_time": "2024-05-07T20:26:02.339696Z",
     "start_time": "2024-05-07T20:26:02.335903Z"
    }
   },
   "cell_type": "code",
   "source": "d # Выведем нашу переменную С",
   "id": "5c4f3f7397d5eab4",
   "outputs": [
    {
     "data": {
      "text/plain": [
       "'Привет Мир'"
      ]
     },
     "execution_count": 23,
     "metadata": {},
     "output_type": "execute_result"
    }
   ],
   "execution_count": 23
  },
  {
   "metadata": {
    "ExecuteTime": {
     "end_time": "2024-05-07T21:03:09.399068Z",
     "start_time": "2024-05-07T21:03:09.396458Z"
    }
   },
   "cell_type": "code",
   "source": [
    "# теперь продемонстрируем работу функции\n",
    "def func_a(arg1, arg2):\n",
    "    \"\"\"функция сложения\"\"\"\n",
    "    x = a + b\n",
    "    return x"
   ],
   "id": "cbb86394f3d507de",
   "outputs": [],
   "execution_count": 55
  },
  {
   "metadata": {
    "ExecuteTime": {
     "end_time": "2024-05-07T21:03:12.170063Z",
     "start_time": "2024-05-07T21:03:12.165508Z"
    }
   },
   "cell_type": "code",
   "source": "func_a(a, b)",
   "id": "be3edda00f8fb501",
   "outputs": [
    {
     "data": {
      "text/plain": [
       "6.5"
      ]
     },
     "execution_count": 56,
     "metadata": {},
     "output_type": "execute_result"
    }
   ],
   "execution_count": 56
  },
  {
   "metadata": {
    "ExecuteTime": {
     "end_time": "2024-05-07T20:36:41.934446Z",
     "start_time": "2024-05-07T20:36:41.931556Z"
    }
   },
   "cell_type": "code",
   "source": "print(d) # функция возвращает изначально строковые значения нашей переменной d",
   "id": "caf570c7c3c88560",
   "outputs": [
    {
     "name": "stdout",
     "output_type": "stream",
     "text": [
      "Привет Мир\n"
     ]
    }
   ],
   "execution_count": 30
  },
  {
   "metadata": {
    "ExecuteTime": {
     "end_time": "2024-05-07T20:28:53.675526Z",
     "start_time": "2024-05-07T20:28:53.671823Z"
    }
   },
   "cell_type": "code",
   "source": [
    "# типы данных и адрес\n",
    "type(a) # Выведем тип данных нашей переменной С\n",
    "\n",
    "# type(b)\n",
    "# type(c)\n",
    "# type(d)"
   ],
   "id": "452fac6af39c013f",
   "outputs": [
    {
     "data": {
      "text/plain": [
       "int"
      ]
     },
     "execution_count": 27,
     "metadata": {},
     "output_type": "execute_result"
    }
   ],
   "execution_count": 27
  },
  {
   "metadata": {
    "ExecuteTime": {
     "end_time": "2024-05-07T20:39:26.482402Z",
     "start_time": "2024-05-07T20:39:26.476013Z"
    }
   },
   "cell_type": "code",
   "source": [
    "# Давайте посмотрим что будет если мы сложим переменные a и d\n",
    "a + d"
   ],
   "id": "f81e072c40f471d5",
   "outputs": [
    {
     "ename": "TypeError",
     "evalue": "unsupported operand type(s) for +: 'int' and 'str'",
     "output_type": "error",
     "traceback": [
      "\u001B[0;31m---------------------------------------------------------------------------\u001B[0m",
      "\u001B[0;31mTypeError\u001B[0m                                 Traceback (most recent call last)",
      "\u001B[0;32m<ipython-input-31-47802d9e0a89>\u001B[0m in \u001B[0;36m<module>\u001B[0;34m\u001B[0m\n\u001B[1;32m      1\u001B[0m \u001B[0;31m# Давайте посмотрим что будет если мы сложим переменные a и d\u001B[0m\u001B[0;34m\u001B[0m\u001B[0;34m\u001B[0m\u001B[0;34m\u001B[0m\u001B[0m\n\u001B[0;32m----> 2\u001B[0;31m \u001B[0ma\u001B[0m \u001B[0;34m+\u001B[0m \u001B[0md\u001B[0m\u001B[0;34m\u001B[0m\u001B[0;34m\u001B[0m\u001B[0m\n\u001B[0m",
      "\u001B[0;31mTypeError\u001B[0m: unsupported operand type(s) for +: 'int' and 'str'"
     ]
    }
   ],
   "execution_count": 31
  },
  {
   "metadata": {
    "ExecuteTime": {
     "end_time": "2024-05-07T20:40:50.617941Z",
     "start_time": "2024-05-07T20:40:50.614020Z"
    }
   },
   "cell_type": "code",
   "source": "a + b # Значит численное значение сложились хорошо",
   "id": "ebc36a5eeb70f831",
   "outputs": [
    {
     "data": {
      "text/plain": [
       "6.5"
      ]
     },
     "execution_count": 32,
     "metadata": {},
     "output_type": "execute_result"
    }
   ],
   "execution_count": 32
  },
  {
   "metadata": {
    "ExecuteTime": {
     "end_time": "2024-05-07T20:42:32.765835Z",
     "start_time": "2024-05-07T20:42:32.761959Z"
    }
   },
   "cell_type": "code",
   "source": [
    "# а что если мы попробуем сложить переменную D с ней же самой\n",
    "d + d"
   ],
   "id": "57e399fa3df46d0c",
   "outputs": [
    {
     "data": {
      "text/plain": [
       "'Привет Мир_Привет Мир_'"
      ]
     },
     "execution_count": 35,
     "metadata": {},
     "output_type": "execute_result"
    }
   ],
   "execution_count": 35
  },
  {
   "metadata": {
    "ExecuteTime": {
     "end_time": "2024-05-07T20:44:57.507644Z",
     "start_time": "2024-05-07T20:44:57.504481Z"
    }
   },
   "cell_type": "code",
   "source": [
    "# Выполним оставшиеся операции с числами которые могут быть использованы к нашим переменным\n",
    "a - 5 # вполне можем получить отрицательное число"
   ],
   "id": "6a1302967f567e96",
   "outputs": [
    {
     "data": {
      "text/plain": [
       "-1"
      ]
     },
     "execution_count": 39,
     "metadata": {},
     "output_type": "execute_result"
    }
   ],
   "execution_count": 39
  },
  {
   "metadata": {
    "ExecuteTime": {
     "end_time": "2024-05-07T20:45:22.433909Z",
     "start_time": "2024-05-07T20:45:22.429828Z"
    }
   },
   "cell_type": "code",
   "source": "a ** 2 # получим степень числа используя двойной оператор умножения",
   "id": "30be3faab82aee8d",
   "outputs": [
    {
     "data": {
      "text/plain": [
       "16"
      ]
     },
     "execution_count": 40,
     "metadata": {},
     "output_type": "execute_result"
    }
   ],
   "execution_count": 40
  },
  {
   "metadata": {
    "ExecuteTime": {
     "end_time": "2024-05-07T20:46:21.980861Z",
     "start_time": "2024-05-07T20:46:21.977370Z"
    }
   },
   "cell_type": "code",
   "source": "a // b # мы увидим мы увидим операцию с очистительного отделения в котором остаток будет отброшен",
   "id": "97dc711f5b9665c8",
   "outputs": [
    {
     "data": {
      "text/plain": [
       "1.0"
      ]
     },
     "execution_count": 41,
     "metadata": {},
     "output_type": "execute_result"
    }
   ],
   "execution_count": 41
  },
  {
   "metadata": {
    "ExecuteTime": {
     "end_time": "2024-05-07T20:47:06.934261Z",
     "start_time": "2024-05-07T20:47:06.930494Z"
    }
   },
   "cell_type": "code",
   "source": "a % b # Давайте наоборот получим остаток от деления",
   "id": "bab4426faf787546",
   "outputs": [
    {
     "data": {
      "text/plain": [
       "1.5"
      ]
     },
     "execution_count": 42,
     "metadata": {},
     "output_type": "execute_result"
    }
   ],
   "execution_count": 42
  },
  {
   "metadata": {},
   "cell_type": "markdown",
   "source": "# Давайте продемонстрируем ещё несколько операций с данными, которые у нас хранятся в переменных",
   "id": "607b9ebdb3a607c2"
  },
  {
   "metadata": {
    "ExecuteTime": {
     "end_time": "2024-05-07T20:51:39.281669Z",
     "start_time": "2024-05-07T20:51:39.277927Z"
    }
   },
   "cell_type": "code",
   "source": [
    "a * d #1 попробуем умножить нашу целочисленную переменную А на переменную со строкой. \n",
    "#2 И посмотрим что у нас получилось у нас наша строковая переменная увеличилась в четыре раза."
   ],
   "id": "1afa260b25c5651b",
   "outputs": [
    {
     "data": {
      "text/plain": [
       "'Привет Мир_Привет Мир_Привет Мир_Привет Мир_'"
      ]
     },
     "execution_count": 48,
     "metadata": {},
     "output_type": "execute_result"
    }
   ],
   "execution_count": 48
  },
  {
   "metadata": {
    "ExecuteTime": {
     "end_time": "2024-05-07T20:55:35.790852Z",
     "start_time": "2024-05-07T20:55:35.787733Z"
    }
   },
   "cell_type": "code",
   "source": [
    "# но ещё интересный момент мы можем извлекать символы из наших строковых переменных\n",
    "d[0] # мы можем обратиться к переменной D содержащую строковое значение по индексу. \n",
    "# используем квадратные скобки\n",
    "# выставим значение 0 поскольку индекс всегда начинается с нуля - получим значение первой буквы"
   ],
   "id": "2a04bba0cd61fead",
   "outputs": [
    {
     "data": {
      "text/plain": [
       "'П'"
      ]
     },
     "execution_count": 51,
     "metadata": {},
     "output_type": "execute_result"
    }
   ],
   "execution_count": 51
  },
  {
   "metadata": {
    "ExecuteTime": {
     "end_time": "2024-05-07T20:56:59.553630Z",
     "start_time": "2024-05-07T20:56:59.549670Z"
    }
   },
   "cell_type": "code",
   "source": [
    "# а допустим мы ему хотим обратиться к последней букве\n",
    "d[-1] # тогда используем отрицательный индекс"
   ],
   "id": "33365305ceda96a1",
   "outputs": [
    {
     "data": {
      "text/plain": [
       "'_'"
      ]
     },
     "execution_count": 52,
     "metadata": {},
     "output_type": "execute_result"
    }
   ],
   "execution_count": 52
  },
  {
   "metadata": {
    "ExecuteTime": {
     "end_time": "2024-05-07T20:57:53.155049Z",
     "start_time": "2024-05-07T20:57:53.151200Z"
    }
   },
   "cell_type": "code",
   "source": "d[0:6] #Что если мы хотим выделить наше слово привет Давайте попробуем посчитать количество букв в начале нашей строки. вернёмся вверх и посмотрим Сколько букв у нас было в слове.",
   "id": "59d01befb71d5b5a",
   "outputs": [
    {
     "data": {
      "text/plain": [
       "'Привет'"
      ]
     },
     "execution_count": 53,
     "metadata": {},
     "output_type": "execute_result"
    }
   ],
   "execution_count": 53
  },
  {
   "metadata": {},
   "cell_type": "markdown",
   "source": [
    "# Вопросы для проверки\n",
    "### 1. Как представлены данные в языке Python?\n",
    "### Варианты ответов:\n",
    "    ### а. Представлены в виде объектов\n",
    "    ### б. Представлены в виде функций\n",
    "    ### в. Представлены в виде переменных\n",
    "    ### г. Представлены в виде чисел\n",
    "\n",
    "# Вопросы для проверки\n",
    "### 2. Какой тип данных у переменной `a`, если `a = 4`?\n",
    "### Варианты ответов:\n",
    "    ### а. int\n",
    "    ### б. float\n",
    "    ### в. str\n",
    "    ### г. list\n",
    "\n",
    "# Вопросы для проверки\n",
    "### 3. Что произойдет, если сложить переменные `a` и `d`, где `a = 4`, а `d = \"Привет\"`?\n",
    "### Варианты ответов:\n",
    "    ### а. Числовое значение\n",
    "    ### б. Строковое значение\n",
    "    ### в. Произойдет ошибка\n",
    "    ### г. Результат не определен\n",
    "\n",
    "# Вопросы для проверки\n",
    "### 4. Какой тип данных у переменной `b`, если `b = 2.5`?\n",
    "### Варианты ответов:\n",
    "    ### а. int\n",
    "    ### б. float\n",
    "    ### в. str\n",
    "    ### г. list\n",
    "\n",
    "# Вопросы для проверки\n",
    "### 5. Что вернет функция `type(c)`, если `c = a * b`, где `a = 4`, а `b = 2.5`?\n",
    "### Варианты ответов:\n",
    "    ### а. int\n",
    "    ### б. float\n",
    "    ### в. str\n",
    "    ### г. list\n",
    "\n",
    "# Вопросы для проверки\n",
    "### 6. Какой результат будет, если выполнить `d * 2`, где `d = \"Привет\"`?\n",
    "### Варианты ответов:\n",
    "    ### а. \"ПриветПривет\"\n",
    "    ### б. \"Привет\"\n",
    "    ### в. \"Привет 2\"\n",
    "    ### г. Произойдет ошибка\n",
    "\n",
    "# Вопросы для проверки\n",
    "### 7. Какой результат будет, если выполнить `a // b`, где `a = 4`, а `b = 2.5`?\n",
    "### Варианты ответов:\n",
    "    ### а. 1\n",
    "    ### б. 1.5\n",
    "    ### в. 2\n",
    "    ### г. Произойдет ошибка\n",
    "\n",
    "# Вопросы для проверки\n",
    "### 8. Какой результат будет, если выполнить `a % b`, где `a = 4`, а `b = 2.5`?\n",
    "### Варианты ответов:\n",
    "    ### а. 1\n",
    "    ### б. 1.5\n",
    "    ### в. 2\n",
    "    ### г. Произойдет ошибка\n",
    "\n",
    "# Вопросы для проверки\n",
    "### 9. Какой результат будет, если выполнить `a ** 2`, где `a = 4`?\n",
    "### Варианты ответов:\n",
    "    ### а. 8\n",
    "    ### б. 16\n",
    "    ### в. 64\n",
    "    ### г. Произойдет ошибка\n",
    "\n",
    "# Вопросы для проверки\n",
    "### 10. Какой результат будет, если выполнить `d[1]`, где `d = \"Привет\"`?\n",
    "### Варианты ответов:\n",
    "    ### а. 'П'\n",
    "    ### б. 'р'\n",
    "    ### в. 'и'\n",
    "    ### г. Произойдет ошибка\n",
    "\n"
   ],
   "id": "ba65efd48252739d"
  }
 ],
 "metadata": {
  "kernelspec": {
   "display_name": "Python 3",
   "language": "python",
   "name": "python3"
  },
  "language_info": {
   "codemirror_mode": {
    "name": "ipython",
    "version": 2
   },
   "file_extension": ".py",
   "mimetype": "text/x-python",
   "name": "python",
   "nbconvert_exporter": "python",
   "pygments_lexer": "ipython2",
   "version": "2.7.6"
  }
 },
 "nbformat": 4,
 "nbformat_minor": 5
}
